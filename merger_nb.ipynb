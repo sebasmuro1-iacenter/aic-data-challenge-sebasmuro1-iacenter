{
 "cells": [
  {
   "cell_type": "code",
   "execution_count": 16,
   "id": "6fdbab59",
   "metadata": {},
   "outputs": [],
   "source": [
    "import pandas as pd\n",
    "import os\n",
    "import glob"
   ]
  },
  {
   "cell_type": "code",
   "execution_count": 19,
   "id": "cd51f68b",
   "metadata": {},
   "outputs": [
    {
     "name": "stdout",
     "output_type": "stream",
     "text": [
      "Conversion, merging, and row deletion completed. Merged CSV file created: merged_file.csv\n"
     ]
    }
   ],
   "source": [
    "# Function to convert CSV files to TXT files\n",
    "def convert_csv_to_txt(csv_file, txt_file):\n",
    "    df = pd.read_csv(csv_file,encoding=\"latin_1\",low_memory=False)\n",
    "    df.to_csv(txt_file, sep='\\t', index=False)\n",
    "\n",
    "# Function to merge multiple TXT files into a single TXT file\n",
    "def merge_txt_files(input_files, output_file, header):\n",
    "    with open(output_file, 'w') as outfile:\n",
    "        # Write the header row first\n",
    "        outfile.write('\\t'.join(header) + '\\n')\n",
    "        \n",
    "        # Write the contents of each file, skipping the first row\n",
    "        for file in input_files:\n",
    "            with open(file, 'r') as infile:\n",
    "                next(infile)  # Skip the first row\n",
    "                outfile.write(infile.read())\n",
    "\n",
    "# Function to change a TXT file into a CSV file\n",
    "def convert_txt_to_csv(txt_file, csv_file):\n",
    "    df = pd.read_csv(txt_file, sep='\\t',encoding=\"latin_1\",low_memory=False)\n",
    "    df.to_csv(csv_file, index=False)\n",
    "\n",
    "# List of CSV files to convert\n",
    "csv_files = ['datasets/Cierre_agr_mun_2022.csv', 'datasets/Cierre_agr_mun_2021.csv','datasets/Cierre_agr_mun_2020.csv']\n",
    "\n",
    "# Define the header for the CSV files\n",
    "header = ['Anio', 'Idestado', 'Nomestado','Idddr','Nomddr','Idcader','Nomcader','Idmunicipio','Nommunicipio','Idciclo','Nomcicloproductivo','Idmodalidad','Nommodalidad','Idunidadmedida','Nomunidad','Idcultivo','Nomcultivo','Sembrada','Cosechada','Siniestrada','Volumenproduccion','Rendimiento','Preciomediorural','Valorproduccion']  # Replace with your actual column names\n",
    "\n",
    "# Convert each CSV file to TXT\n",
    "for csv_file in csv_files:\n",
    "    txt_file = os.path.splitext(csv_file)[0] + '.txt'\n",
    "    convert_csv_to_txt(csv_file, txt_file)\n",
    "\n",
    "# Merge the TXT files into a single TXT file with header\n",
    "merged_txt_file = 'merged_file.txt'\n",
    "merge_txt_files([os.path.splitext(csv_file)[0] + '.txt' for csv_file in csv_files], merged_txt_file, header)\n",
    "\n",
    "# Convert the merged TXT file to CSV\n",
    "merged_csv_file = 'merged_file.csv'\n",
    "convert_txt_to_csv(merged_txt_file, merged_csv_file)\n",
    "\n",
    "print(f\"Conversion, merging, and row deletion completed. Merged CSV file created: {merged_csv_file}\")"
   ]
  },
  {
   "cell_type": "code",
   "execution_count": null,
   "id": "3151d17b",
   "metadata": {},
   "outputs": [],
   "source": []
  }
 ],
 "metadata": {
  "kernelspec": {
   "display_name": "Python 3 (ipykernel)",
   "language": "python",
   "name": "python3"
  },
  "language_info": {
   "codemirror_mode": {
    "name": "ipython",
    "version": 3
   },
   "file_extension": ".py",
   "mimetype": "text/x-python",
   "name": "python",
   "nbconvert_exporter": "python",
   "pygments_lexer": "ipython3",
   "version": "3.10.4"
  }
 },
 "nbformat": 4,
 "nbformat_minor": 5
}
